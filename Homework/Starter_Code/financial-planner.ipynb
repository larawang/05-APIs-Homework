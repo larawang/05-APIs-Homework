{
 "cells": [
  {
   "cell_type": "markdown",
   "metadata": {},
   "source": [
    "# Unit 5 - Financial Planning\n"
   ]
  },
  {
   "cell_type": "code",
   "execution_count": 1,
   "metadata": {},
   "outputs": [],
   "source": [
    "# Initial imports\n",
    "import os\n",
    "import requests\n",
    "import pandas as pd\n",
    "from dotenv import load_dotenv\n",
    "import alpaca_trade_api as tradeapi\n",
    "from MCForecastTools import MCSimulation\n",
    "import json\n",
    "\n",
    "%matplotlib inline"
   ]
  },
  {
   "cell_type": "code",
   "execution_count": 2,
   "metadata": {},
   "outputs": [
    {
     "data": {
      "text/plain": [
       "True"
      ]
     },
     "execution_count": 2,
     "metadata": {},
     "output_type": "execute_result"
    }
   ],
   "source": [
    "# Load .env enviroment variables\n",
    "load_dotenv()"
   ]
  },
  {
   "cell_type": "markdown",
   "metadata": {},
   "source": [
    "## Part 1 - Personal Finance Planner"
   ]
  },
  {
   "cell_type": "markdown",
   "metadata": {},
   "source": [
    "### Collect Crypto Prices Using the `requests` Library"
   ]
  },
  {
   "cell_type": "code",
   "execution_count": 3,
   "metadata": {},
   "outputs": [],
   "source": [
    "# Set current amount of crypto assets\n",
    "# YOUR CODE HERE!\n",
    "my_btc=1.2\n",
    "my_eth=5.3"
   ]
  },
  {
   "cell_type": "code",
   "execution_count": 4,
   "metadata": {},
   "outputs": [],
   "source": [
    "# Crypto API URLs\n",
    "btc_url = \"https://api.alternative.me/v2/ticker/Bitcoin/?convert=CAD\"\n",
    "eth_url = \"https://api.alternative.me/v2/ticker/Ethereum/?convert=CAD\""
   ]
  },
  {
   "cell_type": "code",
   "execution_count": 5,
   "metadata": {},
   "outputs": [
    {
     "name": "stdout",
     "output_type": "stream",
     "text": [
      "The current value of your 1.2 BTC is $45868.80\n",
      "The current value of your 5.3 ETH is $14406.41\n"
     ]
    }
   ],
   "source": [
    "# Fetch current BTC price\n",
    "# YOUR CODE HERE!\n",
    "btc_price=requests.get(btc_url).json()\n",
    "btc_price = btc_price[\"data\"][\"1\"][\"quotes\"][\"USD\"][\"price\"]\n",
    "\n",
    "# Fetch current ETH price\n",
    "# YOUR CODE HERE!]\n",
    "eth_price=requests.get(eth_url).json()\n",
    "eth_price=eth_price[\"data\"][\"1027\"][\"quotes\"][\"USD\"][\"price\"]\n",
    "# Compute current value of my crpto\n",
    "# YOUR CODE HERE!\n",
    "my_btc_value=btc_price*my_btc\n",
    "my_eth_value=eth_price*my_eth\n",
    "\n",
    "# Print current crypto wallet balance\n",
    "print(f\"The current value of your {my_btc} BTC is ${my_btc_value:0.2f}\")\n",
    "print(f\"The current value of your {my_eth} ETH is ${my_eth_value:0.2f}\")"
   ]
  },
  {
   "cell_type": "markdown",
   "metadata": {},
   "source": [
    "### Collect Investments Data Using Alpaca: `SPY` (stocks) and `AGG` (bonds)"
   ]
  },
  {
   "cell_type": "code",
   "execution_count": 6,
   "metadata": {},
   "outputs": [],
   "source": [
    "# Current amount of shares\n",
    "# YOUR CODE HERE!\n",
    "my_agg=200\n",
    "my_spy=50"
   ]
  },
  {
   "cell_type": "code",
   "execution_count": 7,
   "metadata": {},
   "outputs": [],
   "source": [
    "# Set Alpaca API key and secret\n",
    "# YOUR CODE HERE!\n",
    "alpaca_api_key = os.getenv(\"ALPACA_API_KEY\")\n",
    "alpaca_secret_key = os.getenv(\"ALPACA_SECRET_KEY\")\n",
    "# Create the Alpaca API object\n",
    "# YOUR CODE HERE!\n",
    "alpaca = tradeapi.REST(\n",
    "    alpaca_api_key,\n",
    "    alpaca_secret_key,\n",
    "    api_version=\"v2\")"
   ]
  },
  {
   "cell_type": "code",
   "execution_count": 8,
   "metadata": {},
   "outputs": [
    {
     "data": {
      "text/html": [
       "<div>\n",
       "<style scoped>\n",
       "    .dataframe tbody tr th:only-of-type {\n",
       "        vertical-align: middle;\n",
       "    }\n",
       "\n",
       "    .dataframe tbody tr th {\n",
       "        vertical-align: top;\n",
       "    }\n",
       "\n",
       "    .dataframe thead tr th {\n",
       "        text-align: left;\n",
       "    }\n",
       "\n",
       "    .dataframe thead tr:last-of-type th {\n",
       "        text-align: right;\n",
       "    }\n",
       "</style>\n",
       "<table border=\"1\" class=\"dataframe\">\n",
       "  <thead>\n",
       "    <tr>\n",
       "      <th></th>\n",
       "      <th colspan=\"5\" halign=\"left\">AGG</th>\n",
       "      <th colspan=\"5\" halign=\"left\">SPY</th>\n",
       "    </tr>\n",
       "    <tr>\n",
       "      <th></th>\n",
       "      <th>open</th>\n",
       "      <th>high</th>\n",
       "      <th>low</th>\n",
       "      <th>close</th>\n",
       "      <th>volume</th>\n",
       "      <th>open</th>\n",
       "      <th>high</th>\n",
       "      <th>low</th>\n",
       "      <th>close</th>\n",
       "      <th>volume</th>\n",
       "    </tr>\n",
       "    <tr>\n",
       "      <th>time</th>\n",
       "      <th></th>\n",
       "      <th></th>\n",
       "      <th></th>\n",
       "      <th></th>\n",
       "      <th></th>\n",
       "      <th></th>\n",
       "      <th></th>\n",
       "      <th></th>\n",
       "      <th></th>\n",
       "      <th></th>\n",
       "    </tr>\n",
       "  </thead>\n",
       "  <tbody>\n",
       "    <tr>\n",
       "      <th>2021-05-25 00:00:00-04:00</th>\n",
       "      <td>114.58</td>\n",
       "      <td>114.75</td>\n",
       "      <td>114.56</td>\n",
       "      <td>114.740</td>\n",
       "      <td>3239766</td>\n",
       "      <td>420.33</td>\n",
       "      <td>420.71</td>\n",
       "      <td>417.6200</td>\n",
       "      <td>418.25</td>\n",
       "      <td>50976308</td>\n",
       "    </tr>\n",
       "    <tr>\n",
       "      <th>2021-05-26 00:00:00-04:00</th>\n",
       "      <td>114.13</td>\n",
       "      <td>114.80</td>\n",
       "      <td>114.13</td>\n",
       "      <td>114.690</td>\n",
       "      <td>3377324</td>\n",
       "      <td>418.87</td>\n",
       "      <td>419.61</td>\n",
       "      <td>417.7600</td>\n",
       "      <td>419.04</td>\n",
       "      <td>38369865</td>\n",
       "    </tr>\n",
       "    <tr>\n",
       "      <th>2021-05-27 00:00:00-04:00</th>\n",
       "      <td>114.61</td>\n",
       "      <td>114.62</td>\n",
       "      <td>114.45</td>\n",
       "      <td>114.545</td>\n",
       "      <td>4826895</td>\n",
       "      <td>420.17</td>\n",
       "      <td>420.72</td>\n",
       "      <td>418.9851</td>\n",
       "      <td>419.69</td>\n",
       "      <td>48411613</td>\n",
       "    </tr>\n",
       "  </tbody>\n",
       "</table>\n",
       "</div>"
      ],
      "text/plain": [
       "                              AGG                                       SPY  \\\n",
       "                             open    high     low    close   volume    open   \n",
       "time                                                                          \n",
       "2021-05-25 00:00:00-04:00  114.58  114.75  114.56  114.740  3239766  420.33   \n",
       "2021-05-26 00:00:00-04:00  114.13  114.80  114.13  114.690  3377324  418.87   \n",
       "2021-05-27 00:00:00-04:00  114.61  114.62  114.45  114.545  4826895  420.17   \n",
       "\n",
       "                                                               \n",
       "                             high       low   close    volume  \n",
       "time                                                           \n",
       "2021-05-25 00:00:00-04:00  420.71  417.6200  418.25  50976308  \n",
       "2021-05-26 00:00:00-04:00  419.61  417.7600  419.04  38369865  \n",
       "2021-05-27 00:00:00-04:00  420.72  418.9851  419.69  48411613  "
      ]
     },
     "execution_count": 8,
     "metadata": {},
     "output_type": "execute_result"
    }
   ],
   "source": [
    "# Format current date as ISO format\n",
    "# YOUR CODE HERE!\n",
    "today = pd.Timestamp(\"2021-05-25\", tz=\"America/New_York\").isoformat()\n",
    "# Set the tickers\n",
    "tickers = [\"AGG\", \"SPY\"]\n",
    "\n",
    "# Set timeframe to '1D' for Alpaca API\n",
    "timeframe = \"1D\"\n",
    "\n",
    "# Get current closing prices for SPY and AGG\n",
    "# YOUR CODE HERE!\n",
    "df_tickers=alpaca.get_barset(\n",
    "tickers,\n",
    "timeframe,\n",
    "start=today,\n",
    ").df\n",
    "# Preview DataFrame\n",
    "# YOUR CODE HERE!\n",
    "df_tickers"
   ]
  },
  {
   "cell_type": "code",
   "execution_count": 9,
   "metadata": {},
   "outputs": [
    {
     "name": "stdout",
     "output_type": "stream",
     "text": [
      "Current AGG closing price: $114.74\n",
      "Current SPY closing price: $418.25\n"
     ]
    }
   ],
   "source": [
    "# Pick AGG and SPY close prices\n",
    "# YOUR CODE HERE!\n",
    "agg_close_price=df_tickers[\"AGG\"][\"close\"][0]\n",
    "spy_close_price=df_tickers[\"SPY\"][\"close\"][0]\n",
    "# Print AGG and SPY close prices\n",
    "print(f\"Current AGG closing price: ${agg_close_price}\")\n",
    "print(f\"Current SPY closing price: ${spy_close_price}\")"
   ]
  },
  {
   "cell_type": "code",
   "execution_count": 10,
   "metadata": {},
   "outputs": [
    {
     "name": "stdout",
     "output_type": "stream",
     "text": [
      "The current value of your 50 SPY shares is $20912.50\n",
      "The current value of your 200 AGG shares is $22948.00\n"
     ]
    }
   ],
   "source": [
    "# Compute the current value of shares\n",
    "# YOUR CODE HERE!\n",
    "my_agg_value=agg_close_price*my_agg\n",
    "my_spy_value=spy_close_price*my_spy\n",
    "# Print current value of share\n",
    "print(f\"The current value of your {my_spy} SPY shares is ${my_spy_value:0.2f}\")\n",
    "print(f\"The current value of your {my_agg} AGG shares is ${my_agg_value:0.2f}\")"
   ]
  },
  {
   "cell_type": "markdown",
   "metadata": {},
   "source": [
    "### Savings Health Analysis"
   ]
  },
  {
   "cell_type": "code",
   "execution_count": 11,
   "metadata": {},
   "outputs": [
    {
     "data": {
      "text/html": [
       "<div>\n",
       "<style scoped>\n",
       "    .dataframe tbody tr th:only-of-type {\n",
       "        vertical-align: middle;\n",
       "    }\n",
       "\n",
       "    .dataframe tbody tr th {\n",
       "        vertical-align: top;\n",
       "    }\n",
       "\n",
       "    .dataframe thead th {\n",
       "        text-align: right;\n",
       "    }\n",
       "</style>\n",
       "<table border=\"1\" class=\"dataframe\">\n",
       "  <thead>\n",
       "    <tr style=\"text-align: right;\">\n",
       "      <th></th>\n",
       "      <th>amount</th>\n",
       "    </tr>\n",
       "  </thead>\n",
       "  <tbody>\n",
       "    <tr>\n",
       "      <th>crypto</th>\n",
       "      <td>60275.207</td>\n",
       "    </tr>\n",
       "    <tr>\n",
       "      <th>shares</th>\n",
       "      <td>43860.500</td>\n",
       "    </tr>\n",
       "  </tbody>\n",
       "</table>\n",
       "</div>"
      ],
      "text/plain": [
       "           amount\n",
       "crypto  60275.207\n",
       "shares  43860.500"
      ]
     },
     "metadata": {},
     "output_type": "display_data"
    }
   ],
   "source": [
    "# Set monthly household income\n",
    "# YOUR CODE HERE!\n",
    "monthly_income=12000\n",
    "# Create savings DataFrame\n",
    "# YOUR CODE HERE!\n",
    "df_savings = pd.DataFrame([\n",
    "    my_btc_value + my_eth_value,\n",
    "    my_agg_value + my_spy_value\n",
    "],\n",
    "    columns=[\"amount\"],\n",
    "    index=[\"crypto\", \"shares\"]\n",
    ")\n",
    "\n",
    "# Display savings DataFrame\n",
    "display(df_savings)"
   ]
  },
  {
   "cell_type": "code",
   "execution_count": 12,
   "metadata": {},
   "outputs": [
    {
     "data": {
      "text/plain": [
       "<AxesSubplot:title={'center':'composition of personal savings'}, ylabel='amount'>"
      ]
     },
     "execution_count": 12,
     "metadata": {},
     "output_type": "execute_result"
    },
    {
     "data": {
      "image/png": "[encoded data removed]",
      "text/plain": [
       "<Figure size 432x288 with 1 Axes>"
      ]
     },
     "metadata": {},
     "output_type": "display_data"
    }
   ],
   "source": [
    "# Plot savings pie chart\n",
    "# YOUR CODE HERE!\n",
    "df_savings.plot.pie(y=\"amount\",title=\"composition of personal savings\")"
   ]
  },
  {
   "cell_type": "code",
   "execution_count": 13,
   "metadata": {},
   "outputs": [
    {
     "name": "stdout",
     "output_type": "stream",
     "text": [
      "Congratulations! You have enough money in your emergency funds!\n"
     ]
    }
   ],
   "source": [
    "# Set ideal emergency fund\n",
    "emergency_fund = monthly_income * 3\n",
    "\n",
    "# Calculate total amount of savings\n",
    "# YOUR CODE HERE!\n",
    "total_amount=df_savings[\"amount\"].sum()\n",
    "# Validate saving health\n",
    "# YOUR CODE HERE!\n",
    "if total_amount>emergency_fund:\n",
    "    print(\"Congratulations! You have enough money in your emergency funds!\")\n",
    "elif total_amount==emergency_funds:\n",
    "    print(\"Good job! You are reaching your financial goal!\")\n",
    "else:\n",
    "    print(\"Sorry! You needs more money to reach your financial goal!\")\n"
   ]
  },
  {
   "cell_type": "markdown",
   "metadata": {},
   "source": [
    "## Part 2 - Retirement Planning\n",
    "\n",
    "### Monte Carlo Simulation"
   ]
  },
  {
   "cell_type": "code",
   "execution_count": 14,
   "metadata": {},
   "outputs": [],
   "source": [
    "# Set start and end dates of five years back from today.\n",
    "# Sample results may vary from the solution based on the time frame chosen\n",
    "start_date = pd.Timestamp('2015-08-07', tz='America/New_York').isoformat()\n",
    "end_date = pd.Timestamp('2020-08-07', tz='America/New_York').isoformat()"
   ]
  },
  {
   "cell_type": "code",
   "execution_count": 15,
   "metadata": {},
   "outputs": [
    {
     "data": {
      "text/html": [
       "<div>\n",
       "<style scoped>\n",
       "    .dataframe tbody tr th:only-of-type {\n",
       "        vertical-align: middle;\n",
       "    }\n",
       "\n",
       "    .dataframe tbody tr th {\n",
       "        vertical-align: top;\n",
       "    }\n",
       "\n",
       "    .dataframe thead tr th {\n",
       "        text-align: left;\n",
       "    }\n",
       "\n",
       "    .dataframe thead tr:last-of-type th {\n",
       "        text-align: right;\n",
       "    }\n",
       "</style>\n",
       "<table border=\"1\" class=\"dataframe\">\n",
       "  <thead>\n",
       "    <tr>\n",
       "      <th></th>\n",
       "      <th colspan=\"5\" halign=\"left\">AGG</th>\n",
       "      <th colspan=\"5\" halign=\"left\">SPY</th>\n",
       "    </tr>\n",
       "    <tr>\n",
       "      <th></th>\n",
       "      <th>open</th>\n",
       "      <th>high</th>\n",
       "      <th>low</th>\n",
       "      <th>close</th>\n",
       "      <th>volume</th>\n",
       "      <th>open</th>\n",
       "      <th>high</th>\n",
       "      <th>low</th>\n",
       "      <th>close</th>\n",
       "      <th>volume</th>\n",
       "    </tr>\n",
       "    <tr>\n",
       "      <th>time</th>\n",
       "      <th></th>\n",
       "      <th></th>\n",
       "      <th></th>\n",
       "      <th></th>\n",
       "      <th></th>\n",
       "      <th></th>\n",
       "      <th></th>\n",
       "      <th></th>\n",
       "      <th></th>\n",
       "      <th></th>\n",
       "    </tr>\n",
       "  </thead>\n",
       "  <tbody>\n",
       "    <tr>\n",
       "      <th>2020-03-18 00:00:00-04:00</th>\n",
       "      <td>109.36</td>\n",
       "      <td>110.5700</td>\n",
       "      <td>105.7707</td>\n",
       "      <td>106.33</td>\n",
       "      <td>30173684</td>\n",
       "      <td>236.25</td>\n",
       "      <td>248.3700</td>\n",
       "      <td>228.02</td>\n",
       "      <td>241.01</td>\n",
       "      <td>256921808</td>\n",
       "    </tr>\n",
       "    <tr>\n",
       "      <th>2020-03-19 00:00:00-04:00</th>\n",
       "      <td>106.47</td>\n",
       "      <td>109.2200</td>\n",
       "      <td>105.5600</td>\n",
       "      <td>108.97</td>\n",
       "      <td>21031320</td>\n",
       "      <td>239.25</td>\n",
       "      <td>247.3800</td>\n",
       "      <td>232.22</td>\n",
       "      <td>241.18</td>\n",
       "      <td>248430643</td>\n",
       "    </tr>\n",
       "    <tr>\n",
       "      <th>2020-03-20 00:00:00-04:00</th>\n",
       "      <td>108.46</td>\n",
       "      <td>110.2399</td>\n",
       "      <td>108.4600</td>\n",
       "      <td>109.49</td>\n",
       "      <td>28449412</td>\n",
       "      <td>242.53</td>\n",
       "      <td>244.4700</td>\n",
       "      <td>228.50</td>\n",
       "      <td>228.94</td>\n",
       "      <td>286308782</td>\n",
       "    </tr>\n",
       "    <tr>\n",
       "      <th>2020-03-23 00:00:00-04:00</th>\n",
       "      <td>109.90</td>\n",
       "      <td>112.9400</td>\n",
       "      <td>109.0000</td>\n",
       "      <td>112.55</td>\n",
       "      <td>23873510</td>\n",
       "      <td>228.19</td>\n",
       "      <td>229.6833</td>\n",
       "      <td>218.26</td>\n",
       "      <td>222.51</td>\n",
       "      <td>268298876</td>\n",
       "    </tr>\n",
       "    <tr>\n",
       "      <th>2020-03-24 00:00:00-04:00</th>\n",
       "      <td>111.52</td>\n",
       "      <td>113.5000</td>\n",
       "      <td>111.0754</td>\n",
       "      <td>113.29</td>\n",
       "      <td>18141498</td>\n",
       "      <td>234.42</td>\n",
       "      <td>244.1000</td>\n",
       "      <td>233.80</td>\n",
       "      <td>243.59</td>\n",
       "      <td>203576470</td>\n",
       "    </tr>\n",
       "  </tbody>\n",
       "</table>\n",
       "</div>"
      ],
      "text/plain": [
       "                              AGG                                        \\\n",
       "                             open      high       low   close    volume   \n",
       "time                                                                      \n",
       "2020-03-18 00:00:00-04:00  109.36  110.5700  105.7707  106.33  30173684   \n",
       "2020-03-19 00:00:00-04:00  106.47  109.2200  105.5600  108.97  21031320   \n",
       "2020-03-20 00:00:00-04:00  108.46  110.2399  108.4600  109.49  28449412   \n",
       "2020-03-23 00:00:00-04:00  109.90  112.9400  109.0000  112.55  23873510   \n",
       "2020-03-24 00:00:00-04:00  111.52  113.5000  111.0754  113.29  18141498   \n",
       "\n",
       "                              SPY                                       \n",
       "                             open      high     low   close     volume  \n",
       "time                                                                    \n",
       "2020-03-18 00:00:00-04:00  236.25  248.3700  228.02  241.01  256921808  \n",
       "2020-03-19 00:00:00-04:00  239.25  247.3800  232.22  241.18  248430643  \n",
       "2020-03-20 00:00:00-04:00  242.53  244.4700  228.50  228.94  286308782  \n",
       "2020-03-23 00:00:00-04:00  228.19  229.6833  218.26  222.51  268298876  \n",
       "2020-03-24 00:00:00-04:00  234.42  244.1000  233.80  243.59  203576470  "
      ]
     },
     "execution_count": 15,
     "metadata": {},
     "output_type": "execute_result"
    }
   ],
   "source": [
    "# Get 5 years' worth of historical data for SPY and AGG\n",
    "# YOUR CODE HERE!\n",
    "df_stock_data=alpaca.get_barset(\n",
    "      tickers,\n",
    "      timeframe,\n",
    "      start=start_date,\n",
    "      end=end_date\n",
    ").df\n",
    "# Display sample data\n",
    "df_stock_data.head()"
   ]
  },
  {
   "cell_type": "code",
   "execution_count": 16,
   "metadata": {},
   "outputs": [],
   "source": [
    "# Configuring a Monte Carlo simulation to forecast 30 years cumulative returns\n",
    "# YOUR CODE HERE!\n",
    "MC_thirtyyear = MCSimulation(\n",
    "    portfolio_data = df_stock_data,\n",
    "    weights = [.40,.60],\n",
    "    num_simulation = 500,\n",
    "    num_trading_days = 252*30\n",
    ")"
   ]
  },
  {
   "cell_type": "code",
   "execution_count": 17,
   "metadata": {},
   "outputs": [
    {
     "data": {
      "text/html": [
       "<div>\n",
       "<style scoped>\n",
       "    .dataframe tbody tr th:only-of-type {\n",
       "        vertical-align: middle;\n",
       "    }\n",
       "\n",
       "    .dataframe tbody tr th {\n",
       "        vertical-align: top;\n",
       "    }\n",
       "\n",
       "    .dataframe thead tr th {\n",
       "        text-align: left;\n",
       "    }\n",
       "\n",
       "    .dataframe thead tr:last-of-type th {\n",
       "        text-align: right;\n",
       "    }\n",
       "</style>\n",
       "<table border=\"1\" class=\"dataframe\">\n",
       "  <thead>\n",
       "    <tr>\n",
       "      <th></th>\n",
       "      <th colspan=\"6\" halign=\"left\">AGG</th>\n",
       "      <th colspan=\"6\" halign=\"left\">SPY</th>\n",
       "    </tr>\n",
       "    <tr>\n",
       "      <th></th>\n",
       "      <th>open</th>\n",
       "      <th>high</th>\n",
       "      <th>low</th>\n",
       "      <th>close</th>\n",
       "      <th>volume</th>\n",
       "      <th>daily_return</th>\n",
       "      <th>open</th>\n",
       "      <th>high</th>\n",
       "      <th>low</th>\n",
       "      <th>close</th>\n",
       "      <th>volume</th>\n",
       "      <th>daily_return</th>\n",
       "    </tr>\n",
       "    <tr>\n",
       "      <th>time</th>\n",
       "      <th></th>\n",
       "      <th></th>\n",
       "      <th></th>\n",
       "      <th></th>\n",
       "      <th></th>\n",
       "      <th></th>\n",
       "      <th></th>\n",
       "      <th></th>\n",
       "      <th></th>\n",
       "      <th></th>\n",
       "      <th></th>\n",
       "      <th></th>\n",
       "    </tr>\n",
       "  </thead>\n",
       "  <tbody>\n",
       "    <tr>\n",
       "      <th>2020-03-18 00:00:00-04:00</th>\n",
       "      <td>109.36</td>\n",
       "      <td>110.5700</td>\n",
       "      <td>105.7707</td>\n",
       "      <td>106.33</td>\n",
       "      <td>30173684</td>\n",
       "      <td>NaN</td>\n",
       "      <td>236.25</td>\n",
       "      <td>248.3700</td>\n",
       "      <td>228.02</td>\n",
       "      <td>241.01</td>\n",
       "      <td>256921808</td>\n",
       "      <td>NaN</td>\n",
       "    </tr>\n",
       "    <tr>\n",
       "      <th>2020-03-19 00:00:00-04:00</th>\n",
       "      <td>106.47</td>\n",
       "      <td>109.2200</td>\n",
       "      <td>105.5600</td>\n",
       "      <td>108.97</td>\n",
       "      <td>21031320</td>\n",
       "      <td>0.024828</td>\n",
       "      <td>239.25</td>\n",
       "      <td>247.3800</td>\n",
       "      <td>232.22</td>\n",
       "      <td>241.18</td>\n",
       "      <td>248430643</td>\n",
       "      <td>0.000705</td>\n",
       "    </tr>\n",
       "    <tr>\n",
       "      <th>2020-03-20 00:00:00-04:00</th>\n",
       "      <td>108.46</td>\n",
       "      <td>110.2399</td>\n",
       "      <td>108.4600</td>\n",
       "      <td>109.49</td>\n",
       "      <td>28449412</td>\n",
       "      <td>0.004772</td>\n",
       "      <td>242.53</td>\n",
       "      <td>244.4700</td>\n",
       "      <td>228.50</td>\n",
       "      <td>228.94</td>\n",
       "      <td>286308782</td>\n",
       "      <td>-0.050750</td>\n",
       "    </tr>\n",
       "    <tr>\n",
       "      <th>2020-03-23 00:00:00-04:00</th>\n",
       "      <td>109.90</td>\n",
       "      <td>112.9400</td>\n",
       "      <td>109.0000</td>\n",
       "      <td>112.55</td>\n",
       "      <td>23873510</td>\n",
       "      <td>0.027948</td>\n",
       "      <td>228.19</td>\n",
       "      <td>229.6833</td>\n",
       "      <td>218.26</td>\n",
       "      <td>222.51</td>\n",
       "      <td>268298876</td>\n",
       "      <td>-0.028086</td>\n",
       "    </tr>\n",
       "    <tr>\n",
       "      <th>2020-03-24 00:00:00-04:00</th>\n",
       "      <td>111.52</td>\n",
       "      <td>113.5000</td>\n",
       "      <td>111.0754</td>\n",
       "      <td>113.29</td>\n",
       "      <td>18141498</td>\n",
       "      <td>0.006575</td>\n",
       "      <td>234.42</td>\n",
       "      <td>244.1000</td>\n",
       "      <td>233.80</td>\n",
       "      <td>243.59</td>\n",
       "      <td>203576470</td>\n",
       "      <td>0.094737</td>\n",
       "    </tr>\n",
       "  </tbody>\n",
       "</table>\n",
       "</div>"
      ],
      "text/plain": [
       "                              AGG                                        \\\n",
       "                             open      high       low   close    volume   \n",
       "time                                                                      \n",
       "2020-03-18 00:00:00-04:00  109.36  110.5700  105.7707  106.33  30173684   \n",
       "2020-03-19 00:00:00-04:00  106.47  109.2200  105.5600  108.97  21031320   \n",
       "2020-03-20 00:00:00-04:00  108.46  110.2399  108.4600  109.49  28449412   \n",
       "2020-03-23 00:00:00-04:00  109.90  112.9400  109.0000  112.55  23873510   \n",
       "2020-03-24 00:00:00-04:00  111.52  113.5000  111.0754  113.29  18141498   \n",
       "\n",
       "                                           SPY                            \\\n",
       "                          daily_return    open      high     low   close   \n",
       "time                                                                       \n",
       "2020-03-18 00:00:00-04:00          NaN  236.25  248.3700  228.02  241.01   \n",
       "2020-03-19 00:00:00-04:00     0.024828  239.25  247.3800  232.22  241.18   \n",
       "2020-03-20 00:00:00-04:00     0.004772  242.53  244.4700  228.50  228.94   \n",
       "2020-03-23 00:00:00-04:00     0.027948  228.19  229.6833  218.26  222.51   \n",
       "2020-03-24 00:00:00-04:00     0.006575  234.42  244.1000  233.80  243.59   \n",
       "\n",
       "                                                   \n",
       "                              volume daily_return  \n",
       "time                                               \n",
       "2020-03-18 00:00:00-04:00  256921808          NaN  \n",
       "2020-03-19 00:00:00-04:00  248430643     0.000705  \n",
       "2020-03-20 00:00:00-04:00  286308782    -0.050750  \n",
       "2020-03-23 00:00:00-04:00  268298876    -0.028086  \n",
       "2020-03-24 00:00:00-04:00  203576470     0.094737  "
      ]
     },
     "execution_count": 17,
     "metadata": {},
     "output_type": "execute_result"
    }
   ],
   "source": [
    "# Printing the simulation input data\n",
    "# YOUR CODE HERE!\n",
    "MC_thirtyyear.portfolio_data.head()"
   ]
  },
  {
   "cell_type": "code",
   "execution_count": 18,
   "metadata": {},
   "outputs": [
    {
     "name": "stdout",
     "output_type": "stream",
     "text": [
      "Running Monte Carlo simulation number 0.\n",
      "Running Monte Carlo simulation number 10.\n",
      "Running Monte Carlo simulation number 20.\n",
      "Running Monte Carlo simulation number 30.\n",
      "Running Monte Carlo simulation number 40.\n",
      "Running Monte Carlo simulation number 50.\n",
      "Running Monte Carlo simulation number 60.\n",
      "Running Monte Carlo simulation number 70.\n",
      "Running Monte Carlo simulation number 80.\n",
      "Running Monte Carlo simulation number 90.\n",
      "Running Monte Carlo simulation number 100.\n",
      "Running Monte Carlo simulation number 110.\n",
      "Running Monte Carlo simulation number 120.\n",
      "Running Monte Carlo simulation number 130.\n",
      "Running Monte Carlo simulation number 140.\n",
      "Running Monte Carlo simulation number 150.\n",
      "Running Monte Carlo simulation number 160.\n",
      "Running Monte Carlo simulation number 170.\n",
      "Running Monte Carlo simulation number 180.\n",
      "Running Monte Carlo simulation number 190.\n",
      "Running Monte Carlo simulation number 200.\n",
      "Running Monte Carlo simulation number 210.\n",
      "Running Monte Carlo simulation number 220.\n",
      "Running Monte Carlo simulation number 230.\n",
      "Running Monte Carlo simulation number 240.\n",
      "Running Monte Carlo simulation number 250.\n",
      "Running Monte Carlo simulation number 260.\n",
      "Running Monte Carlo simulation number 270.\n",
      "Running Monte Carlo simulation number 280.\n",
      "Running Monte Carlo simulation number 290.\n",
      "Running Monte Carlo simulation number 300.\n",
      "Running Monte Carlo simulation number 310.\n",
      "Running Monte Carlo simulation number 320.\n",
      "Running Monte Carlo simulation number 330.\n",
      "Running Monte Carlo simulation number 340.\n",
      "Running Monte Carlo simulation number 350.\n",
      "Running Monte Carlo simulation number 360.\n",
      "Running Monte Carlo simulation number 370.\n",
      "Running Monte Carlo simulation number 380.\n",
      "Running Monte Carlo simulation number 390.\n",
      "Running Monte Carlo simulation number 400.\n",
      "Running Monte Carlo simulation number 410.\n",
      "Running Monte Carlo simulation number 420.\n",
      "Running Monte Carlo simulation number 430.\n",
      "Running Monte Carlo simulation number 440.\n",
      "Running Monte Carlo simulation number 450.\n",
      "Running Monte Carlo simulation number 460.\n",
      "Running Monte Carlo simulation number 470.\n",
      "Running Monte Carlo simulation number 480.\n",
      "Running Monte Carlo simulation number 490.\n"
     ]
    },
    {
     "data": {
      "text/html": [
       "<div>\n",
       "<style scoped>\n",
       "    .dataframe tbody tr th:only-of-type {\n",
       "        vertical-align: middle;\n",
       "    }\n",
       "\n",
       "    .dataframe tbody tr th {\n",
       "        vertical-align: top;\n",
       "    }\n",
       "\n",
       "    .dataframe thead th {\n",
       "        text-align: right;\n",
       "    }\n",
       "</style>\n",
       "<table border=\"1\" class=\"dataframe\">\n",
       "  <thead>\n",
       "    <tr style=\"text-align: right;\">\n",
       "      <th></th>\n",
       "      <th>0</th>\n",
       "      <th>1</th>\n",
       "      <th>2</th>\n",
       "      <th>3</th>\n",
       "      <th>4</th>\n",
       "      <th>5</th>\n",
       "      <th>6</th>\n",
       "      <th>7</th>\n",
       "      <th>8</th>\n",
       "      <th>9</th>\n",
       "      <th>...</th>\n",
       "      <th>490</th>\n",
       "      <th>491</th>\n",
       "      <th>492</th>\n",
       "      <th>493</th>\n",
       "      <th>494</th>\n",
       "      <th>495</th>\n",
       "      <th>496</th>\n",
       "      <th>497</th>\n",
       "      <th>498</th>\n",
       "      <th>499</th>\n",
       "    </tr>\n",
       "  </thead>\n",
       "  <tbody>\n",
       "    <tr>\n",
       "      <th>0</th>\n",
       "      <td>1.000000e+00</td>\n",
       "      <td>1.000000e+00</td>\n",
       "      <td>1.000000e+00</td>\n",
       "      <td>1.000000e+00</td>\n",
       "      <td>1.000000e+00</td>\n",
       "      <td>1.000000e+00</td>\n",
       "      <td>1.000000e+00</td>\n",
       "      <td>1.000000e+00</td>\n",
       "      <td>1.000000e+00</td>\n",
       "      <td>1.000000e+00</td>\n",
       "      <td>...</td>\n",
       "      <td>1.000000e+00</td>\n",
       "      <td>1.000000e+00</td>\n",
       "      <td>1.000000e+00</td>\n",
       "      <td>1.000000e+00</td>\n",
       "      <td>1.000000e+00</td>\n",
       "      <td>1.000000e+00</td>\n",
       "      <td>1.000000e+00</td>\n",
       "      <td>1.000000e+00</td>\n",
       "      <td>1.000000e+00</td>\n",
       "      <td>1.000000e+00</td>\n",
       "    </tr>\n",
       "    <tr>\n",
       "      <th>1</th>\n",
       "      <td>9.951802e-01</td>\n",
       "      <td>1.019069e+00</td>\n",
       "      <td>9.994370e-01</td>\n",
       "      <td>9.863223e-01</td>\n",
       "      <td>9.774431e-01</td>\n",
       "      <td>1.012164e+00</td>\n",
       "      <td>9.992733e-01</td>\n",
       "      <td>1.002590e+00</td>\n",
       "      <td>1.008341e+00</td>\n",
       "      <td>9.933240e-01</td>\n",
       "      <td>...</td>\n",
       "      <td>1.007338e+00</td>\n",
       "      <td>9.872081e-01</td>\n",
       "      <td>1.016681e+00</td>\n",
       "      <td>1.015644e+00</td>\n",
       "      <td>9.898439e-01</td>\n",
       "      <td>9.816355e-01</td>\n",
       "      <td>9.872173e-01</td>\n",
       "      <td>9.979390e-01</td>\n",
       "      <td>1.003120e+00</td>\n",
       "      <td>9.812197e-01</td>\n",
       "    </tr>\n",
       "    <tr>\n",
       "      <th>2</th>\n",
       "      <td>1.001217e+00</td>\n",
       "      <td>1.030121e+00</td>\n",
       "      <td>9.998169e-01</td>\n",
       "      <td>9.841855e-01</td>\n",
       "      <td>9.619286e-01</td>\n",
       "      <td>1.001731e+00</td>\n",
       "      <td>9.991854e-01</td>\n",
       "      <td>1.003918e+00</td>\n",
       "      <td>1.008097e+00</td>\n",
       "      <td>9.876757e-01</td>\n",
       "      <td>...</td>\n",
       "      <td>1.001522e+00</td>\n",
       "      <td>9.707057e-01</td>\n",
       "      <td>1.028435e+00</td>\n",
       "      <td>1.032555e+00</td>\n",
       "      <td>9.924094e-01</td>\n",
       "      <td>1.001206e+00</td>\n",
       "      <td>9.905006e-01</td>\n",
       "      <td>1.001394e+00</td>\n",
       "      <td>1.021107e+00</td>\n",
       "      <td>9.671603e-01</td>\n",
       "    </tr>\n",
       "    <tr>\n",
       "      <th>3</th>\n",
       "      <td>1.033471e+00</td>\n",
       "      <td>1.036552e+00</td>\n",
       "      <td>1.005564e+00</td>\n",
       "      <td>9.829314e-01</td>\n",
       "      <td>9.712882e-01</td>\n",
       "      <td>1.009084e+00</td>\n",
       "      <td>9.912442e-01</td>\n",
       "      <td>1.020312e+00</td>\n",
       "      <td>9.891376e-01</td>\n",
       "      <td>1.004485e+00</td>\n",
       "      <td>...</td>\n",
       "      <td>1.032786e+00</td>\n",
       "      <td>9.733556e-01</td>\n",
       "      <td>1.042618e+00</td>\n",
       "      <td>1.032721e+00</td>\n",
       "      <td>9.879397e-01</td>\n",
       "      <td>9.724454e-01</td>\n",
       "      <td>9.887989e-01</td>\n",
       "      <td>1.006441e+00</td>\n",
       "      <td>1.012123e+00</td>\n",
       "      <td>9.659757e-01</td>\n",
       "    </tr>\n",
       "    <tr>\n",
       "      <th>4</th>\n",
       "      <td>1.031332e+00</td>\n",
       "      <td>1.043006e+00</td>\n",
       "      <td>1.020341e+00</td>\n",
       "      <td>9.736760e-01</td>\n",
       "      <td>9.779352e-01</td>\n",
       "      <td>1.002333e+00</td>\n",
       "      <td>1.001040e+00</td>\n",
       "      <td>1.030428e+00</td>\n",
       "      <td>9.999738e-01</td>\n",
       "      <td>1.004628e+00</td>\n",
       "      <td>...</td>\n",
       "      <td>1.049205e+00</td>\n",
       "      <td>9.815449e-01</td>\n",
       "      <td>1.026623e+00</td>\n",
       "      <td>1.062072e+00</td>\n",
       "      <td>9.879451e-01</td>\n",
       "      <td>9.794855e-01</td>\n",
       "      <td>9.943010e-01</td>\n",
       "      <td>1.016492e+00</td>\n",
       "      <td>1.011577e+00</td>\n",
       "      <td>9.687284e-01</td>\n",
       "    </tr>\n",
       "    <tr>\n",
       "      <th>...</th>\n",
       "      <td>...</td>\n",
       "      <td>...</td>\n",
       "      <td>...</td>\n",
       "      <td>...</td>\n",
       "      <td>...</td>\n",
       "      <td>...</td>\n",
       "      <td>...</td>\n",
       "      <td>...</td>\n",
       "      <td>...</td>\n",
       "      <td>...</td>\n",
       "      <td>...</td>\n",
       "      <td>...</td>\n",
       "      <td>...</td>\n",
       "      <td>...</td>\n",
       "      <td>...</td>\n",
       "      <td>...</td>\n",
       "      <td>...</td>\n",
       "      <td>...</td>\n",
       "      <td>...</td>\n",
       "      <td>...</td>\n",
       "      <td>...</td>\n",
       "    </tr>\n",
       "    <tr>\n",
       "      <th>7556</th>\n",
       "      <td>2.575674e+08</td>\n",
       "      <td>2.119285e+08</td>\n",
       "      <td>1.299586e+08</td>\n",
       "      <td>2.797884e+08</td>\n",
       "      <td>8.414188e+08</td>\n",
       "      <td>3.398709e+07</td>\n",
       "      <td>3.361343e+07</td>\n",
       "      <td>2.478300e+08</td>\n",
       "      <td>1.609945e+07</td>\n",
       "      <td>5.104466e+07</td>\n",
       "      <td>...</td>\n",
       "      <td>1.144542e+08</td>\n",
       "      <td>3.879274e+08</td>\n",
       "      <td>5.904404e+07</td>\n",
       "      <td>3.043612e+07</td>\n",
       "      <td>2.203864e+08</td>\n",
       "      <td>3.877275e+08</td>\n",
       "      <td>1.063451e+09</td>\n",
       "      <td>2.814826e+08</td>\n",
       "      <td>3.633311e+08</td>\n",
       "      <td>5.184738e+07</td>\n",
       "    </tr>\n",
       "    <tr>\n",
       "      <th>7557</th>\n",
       "      <td>2.643161e+08</td>\n",
       "      <td>2.059099e+08</td>\n",
       "      <td>1.311894e+08</td>\n",
       "      <td>2.783056e+08</td>\n",
       "      <td>8.536000e+08</td>\n",
       "      <td>3.417344e+07</td>\n",
       "      <td>3.394121e+07</td>\n",
       "      <td>2.459817e+08</td>\n",
       "      <td>1.638292e+07</td>\n",
       "      <td>5.265641e+07</td>\n",
       "      <td>...</td>\n",
       "      <td>1.175342e+08</td>\n",
       "      <td>3.811191e+08</td>\n",
       "      <td>5.933933e+07</td>\n",
       "      <td>3.140849e+07</td>\n",
       "      <td>2.166844e+08</td>\n",
       "      <td>3.832173e+08</td>\n",
       "      <td>1.070212e+09</td>\n",
       "      <td>2.831153e+08</td>\n",
       "      <td>3.610647e+08</td>\n",
       "      <td>5.143291e+07</td>\n",
       "    </tr>\n",
       "    <tr>\n",
       "      <th>7558</th>\n",
       "      <td>2.685004e+08</td>\n",
       "      <td>2.014872e+08</td>\n",
       "      <td>1.303523e+08</td>\n",
       "      <td>2.855211e+08</td>\n",
       "      <td>8.521880e+08</td>\n",
       "      <td>3.454584e+07</td>\n",
       "      <td>3.376071e+07</td>\n",
       "      <td>2.505798e+08</td>\n",
       "      <td>1.638903e+07</td>\n",
       "      <td>5.284957e+07</td>\n",
       "      <td>...</td>\n",
       "      <td>1.180910e+08</td>\n",
       "      <td>3.732616e+08</td>\n",
       "      <td>6.192040e+07</td>\n",
       "      <td>3.145725e+07</td>\n",
       "      <td>2.201796e+08</td>\n",
       "      <td>3.786943e+08</td>\n",
       "      <td>1.087028e+09</td>\n",
       "      <td>2.843386e+08</td>\n",
       "      <td>3.654125e+08</td>\n",
       "      <td>5.020040e+07</td>\n",
       "    </tr>\n",
       "    <tr>\n",
       "      <th>7559</th>\n",
       "      <td>2.643771e+08</td>\n",
       "      <td>2.066679e+08</td>\n",
       "      <td>1.326833e+08</td>\n",
       "      <td>2.852232e+08</td>\n",
       "      <td>8.440586e+08</td>\n",
       "      <td>3.455791e+07</td>\n",
       "      <td>3.449565e+07</td>\n",
       "      <td>2.531383e+08</td>\n",
       "      <td>1.634619e+07</td>\n",
       "      <td>5.250342e+07</td>\n",
       "      <td>...</td>\n",
       "      <td>1.192878e+08</td>\n",
       "      <td>3.791380e+08</td>\n",
       "      <td>6.249451e+07</td>\n",
       "      <td>3.123851e+07</td>\n",
       "      <td>2.141224e+08</td>\n",
       "      <td>3.879632e+08</td>\n",
       "      <td>1.096742e+09</td>\n",
       "      <td>2.912686e+08</td>\n",
       "      <td>3.657524e+08</td>\n",
       "      <td>5.069697e+07</td>\n",
       "    </tr>\n",
       "    <tr>\n",
       "      <th>7560</th>\n",
       "      <td>2.687662e+08</td>\n",
       "      <td>2.068671e+08</td>\n",
       "      <td>1.335629e+08</td>\n",
       "      <td>2.874440e+08</td>\n",
       "      <td>8.251683e+08</td>\n",
       "      <td>3.442679e+07</td>\n",
       "      <td>3.544585e+07</td>\n",
       "      <td>2.593583e+08</td>\n",
       "      <td>1.692058e+07</td>\n",
       "      <td>5.273097e+07</td>\n",
       "      <td>...</td>\n",
       "      <td>1.196301e+08</td>\n",
       "      <td>3.941365e+08</td>\n",
       "      <td>6.290162e+07</td>\n",
       "      <td>3.162072e+07</td>\n",
       "      <td>2.134172e+08</td>\n",
       "      <td>3.857234e+08</td>\n",
       "      <td>1.111347e+09</td>\n",
       "      <td>2.869627e+08</td>\n",
       "      <td>3.682690e+08</td>\n",
       "      <td>5.078494e+07</td>\n",
       "    </tr>\n",
       "  </tbody>\n",
       "</table>\n",
       "<p>7561 rows × 500 columns</p>\n",
       "</div>"
      ],
      "text/plain": [
       "               0             1             2             3             4    \\\n",
       "0     1.000000e+00  1.000000e+00  1.000000e+00  1.000000e+00  1.000000e+00   \n",
       "1     9.951802e-01  1.019069e+00  9.994370e-01  9.863223e-01  9.774431e-01   \n",
       "2     1.001217e+00  1.030121e+00  9.998169e-01  9.841855e-01  9.619286e-01   \n",
       "3     1.033471e+00  1.036552e+00  1.005564e+00  9.829314e-01  9.712882e-01   \n",
       "4     1.031332e+00  1.043006e+00  1.020341e+00  9.736760e-01  9.779352e-01   \n",
       "...            ...           ...           ...           ...           ...   \n",
       "7556  2.575674e+08  2.119285e+08  1.299586e+08  2.797884e+08  8.414188e+08   \n",
       "7557  2.643161e+08  2.059099e+08  1.311894e+08  2.783056e+08  8.536000e+08   \n",
       "7558  2.685004e+08  2.014872e+08  1.303523e+08  2.855211e+08  8.521880e+08   \n",
       "7559  2.643771e+08  2.066679e+08  1.326833e+08  2.852232e+08  8.440586e+08   \n",
       "7560  2.687662e+08  2.068671e+08  1.335629e+08  2.874440e+08  8.251683e+08   \n",
       "\n",
       "               5             6             7             8             9    \\\n",
       "0     1.000000e+00  1.000000e+00  1.000000e+00  1.000000e+00  1.000000e+00   \n",
       "1     1.012164e+00  9.992733e-01  1.002590e+00  1.008341e+00  9.933240e-01   \n",
       "2     1.001731e+00  9.991854e-01  1.003918e+00  1.008097e+00  9.876757e-01   \n",
       "3     1.009084e+00  9.912442e-01  1.020312e+00  9.891376e-01  1.004485e+00   \n",
       "4     1.002333e+00  1.001040e+00  1.030428e+00  9.999738e-01  1.004628e+00   \n",
       "...            ...           ...           ...           ...           ...   \n",
       "7556  3.398709e+07  3.361343e+07  2.478300e+08  1.609945e+07  5.104466e+07   \n",
       "7557  3.417344e+07  3.394121e+07  2.459817e+08  1.638292e+07  5.265641e+07   \n",
       "7558  3.454584e+07  3.376071e+07  2.505798e+08  1.638903e+07  5.284957e+07   \n",
       "7559  3.455791e+07  3.449565e+07  2.531383e+08  1.634619e+07  5.250342e+07   \n",
       "7560  3.442679e+07  3.544585e+07  2.593583e+08  1.692058e+07  5.273097e+07   \n",
       "\n",
       "      ...           490           491           492           493  \\\n",
       "0     ...  1.000000e+00  1.000000e+00  1.000000e+00  1.000000e+00   \n",
       "1     ...  1.007338e+00  9.872081e-01  1.016681e+00  1.015644e+00   \n",
       "2     ...  1.001522e+00  9.707057e-01  1.028435e+00  1.032555e+00   \n",
       "3     ...  1.032786e+00  9.733556e-01  1.042618e+00  1.032721e+00   \n",
       "4     ...  1.049205e+00  9.815449e-01  1.026623e+00  1.062072e+00   \n",
       "...   ...           ...           ...           ...           ...   \n",
       "7556  ...  1.144542e+08  3.879274e+08  5.904404e+07  3.043612e+07   \n",
       "7557  ...  1.175342e+08  3.811191e+08  5.933933e+07  3.140849e+07   \n",
       "7558  ...  1.180910e+08  3.732616e+08  6.192040e+07  3.145725e+07   \n",
       "7559  ...  1.192878e+08  3.791380e+08  6.249451e+07  3.123851e+07   \n",
       "7560  ...  1.196301e+08  3.941365e+08  6.290162e+07  3.162072e+07   \n",
       "\n",
       "               494           495           496           497           498  \\\n",
       "0     1.000000e+00  1.000000e+00  1.000000e+00  1.000000e+00  1.000000e+00   \n",
       "1     9.898439e-01  9.816355e-01  9.872173e-01  9.979390e-01  1.003120e+00   \n",
       "2     9.924094e-01  1.001206e+00  9.905006e-01  1.001394e+00  1.021107e+00   \n",
       "3     9.879397e-01  9.724454e-01  9.887989e-01  1.006441e+00  1.012123e+00   \n",
       "4     9.879451e-01  9.794855e-01  9.943010e-01  1.016492e+00  1.011577e+00   \n",
       "...            ...           ...           ...           ...           ...   \n",
       "7556  2.203864e+08  3.877275e+08  1.063451e+09  2.814826e+08  3.633311e+08   \n",
       "7557  2.166844e+08  3.832173e+08  1.070212e+09  2.831153e+08  3.610647e+08   \n",
       "7558  2.201796e+08  3.786943e+08  1.087028e+09  2.843386e+08  3.654125e+08   \n",
       "7559  2.141224e+08  3.879632e+08  1.096742e+09  2.912686e+08  3.657524e+08   \n",
       "7560  2.134172e+08  3.857234e+08  1.111347e+09  2.869627e+08  3.682690e+08   \n",
       "\n",
       "               499  \n",
       "0     1.000000e+00  \n",
       "1     9.812197e-01  \n",
       "2     9.671603e-01  \n",
       "3     9.659757e-01  \n",
       "4     9.687284e-01  \n",
       "...            ...  \n",
       "7556  5.184738e+07  \n",
       "7557  5.143291e+07  \n",
       "7558  5.020040e+07  \n",
       "7559  5.069697e+07  \n",
       "7560  5.078494e+07  \n",
       "\n",
       "[7561 rows x 500 columns]"
      ]
     },
     "execution_count": 18,
     "metadata": {},
     "output_type": "execute_result"
    }
   ],
   "source": [
    "# Running a Monte Carlo simulation to forecast 30 years cumulative returns\n",
    "# YOUR CODE HERE!\n",
    "MC_thirtyyear.calc_cumulative_return()"
   ]
  },
  {
   "cell_type": "code",
   "execution_count": 21,
   "metadata": {},
   "outputs": [
    {
     "data": {
      "image/png": "[encoded data removed]",
      "text/plain": [
       "<Figure size 432x288 with 1 Axes>"
      ]
     },
     "metadata": {
      "needs_background": "light"
     },
     "output_type": "display_data"
    }
   ],
   "source": [
    "# Plot simulation outcomes\n",
    "# YOUR CODE HERE!\n",
    "line_plot=MC_thirtyyear.plot_simulation()"
   ]
  },
  {
   "cell_type": "code",
   "execution_count": 22,
   "metadata": {},
   "outputs": [
    {
     "data": {
      "image/png": "[encoded data removed]",
      "text/plain": [
       "<Figure size 432x288 with 1 Axes>"
      ]
     },
     "metadata": {
      "needs_background": "light"
     },
     "output_type": "display_data"
    }
   ],
   "source": [
    "# Plot probability distribution and confidence intervals\n",
    "# YOUR CODE HERE!\n",
    "plot_distribution=MC_thirtyyear.plot_distribution()"
   ]
  },
  {
   "cell_type": "markdown",
   "metadata": {},
   "source": [
    "### Retirement Analysis"
   ]
  },
  {
   "cell_type": "code",
   "execution_count": 23,
   "metadata": {},
   "outputs": [
    {
     "data": {
      "text/plain": [
       "count           5.000000e+02\n",
       "mean            2.997098e+08\n",
       "std             3.870243e+08\n",
       "min             8.654919e+06\n",
       "25%             7.357316e+07\n",
       "50%             1.663446e+08\n",
       "75%             3.519677e+08\n",
       "max             2.658175e+09\n",
       "95% CI Lower    1.977809e+07\n",
       "95% CI Upper    1.387848e+09\n",
       "Name: 7560, dtype: float64"
      ]
     },
     "execution_count": 23,
     "metadata": {},
     "output_type": "execute_result"
    }
   ],
   "source": [
    "# Fetch summary statistics from the Monte Carlo simulation results\n",
    "# YOUR CODE HERE!\n",
    "summary=MC_thirtyyear.summarize_cumulative_return()\n",
    "# Print summary statistics\n",
    "# YOUR CODE HERE!\n",
    "summary"
   ]
  },
  {
   "cell_type": "markdown",
   "metadata": {},
   "source": [
    "### Calculate the expected portfolio return at the 95% lower and upper confidence intervals based on a `$20,000` initial investment."
   ]
  },
  {
   "cell_type": "code",
   "execution_count": 24,
   "metadata": {},
   "outputs": [
    {
     "name": "stdout",
     "output_type": "stream",
     "text": [
      "There is a 95% chance that an initial investment of $20000 in the portfolio over the next 30 years will end within in the range of $395561752609.27 and $27756963516090.14\n"
     ]
    }
   ],
   "source": [
    "# Set initial investment\n",
    "initial_investment = 20000\n",
    "\n",
    "# Use the lower and upper `95%` confidence intervals to calculate the range of the possible outcomes of our $20,000\n",
    "# YOUR CODE HERE!\n",
    "ci_lower=round(summary[8]*20000,2)\n",
    "ci_upper=round(summary[9]*20000,2)\n",
    "# Print results\n",
    "print(f\"There is a 95% chance that an initial investment of ${initial_investment} in the portfolio\"\n",
    "      f\" over the next 30 years will end within in the range of\"\n",
    "      f\" ${ci_lower} and ${ci_upper}\")"
   ]
  },
  {
   "cell_type": "markdown",
   "metadata": {},
   "source": [
    "### Calculate the expected portfolio return at the `95%` lower and upper confidence intervals based on a `50%` increase in the initial investment."
   ]
  },
  {
   "cell_type": "code",
   "execution_count": 25,
   "metadata": {},
   "outputs": [
    {
     "name": "stdout",
     "output_type": "stream",
     "text": [
      "There is a 95% chance that an initial investment of $30000.0 in the portfolio over the next 30 years will end within in the range of $593342628913.9 and $41635445274135.2\n"
     ]
    }
   ],
   "source": [
    "# Set initial investment\n",
    "initial_investment = 20000 * 1.5\n",
    "\n",
    "# Use the lower and upper `95%` confidence intervals to calculate the range of the possible outcomes of our $30,000\n",
    "# YOUR CODE HERE!\n",
    "ci_lower=round(summary[8]*30000,2)\n",
    "ci_upper=round(summary[9]*30000,2)\n",
    "# Print results\n",
    "print(f\"There is a 95% chance that an initial investment of ${initial_investment} in the portfolio\"\n",
    "      f\" over the next 30 years will end within in the range of\"\n",
    "      f\" ${ci_lower} and ${ci_upper}\")"
   ]
  },
  {
   "cell_type": "markdown",
   "metadata": {},
   "source": [
    "## Optional Challenge - Early Retirement\n",
    "\n",
    "\n",
    "### Five Years Retirement Option"
   ]
  },
  {
   "cell_type": "code",
   "execution_count": null,
   "metadata": {},
   "outputs": [],
   "source": [
    "# Configuring a Monte Carlo simulation to forecast 5 years cumulative returns\n",
    "# YOUR CODE HERE!"
   ]
  },
  {
   "cell_type": "code",
   "execution_count": null,
   "metadata": {},
   "outputs": [],
   "source": [
    "# Running a Monte Carlo simulation to forecast 5 years cumulative returns\n",
    "# YOUR CODE HERE!"
   ]
  },
  {
   "cell_type": "code",
   "execution_count": null,
   "metadata": {},
   "outputs": [],
   "source": [
    "# Plot simulation outcomes\n",
    "# YOUR CODE HERE!"
   ]
  },
  {
   "cell_type": "code",
   "execution_count": null,
   "metadata": {},
   "outputs": [],
   "source": [
    "# Plot probability distribution and confidence intervals\n",
    "# YOUR CODE HERE!"
   ]
  },
  {
   "cell_type": "code",
   "execution_count": null,
   "metadata": {},
   "outputs": [],
   "source": [
    "# Fetch summary statistics from the Monte Carlo simulation results\n",
    "# YOUR CODE HERE!\n",
    "\n",
    "# Print summary statistics\n",
    "# YOUR CODE HERE!"
   ]
  },
  {
   "cell_type": "code",
   "execution_count": null,
   "metadata": {},
   "outputs": [],
   "source": [
    "# Set initial investment\n",
    "# YOUR CODE HERE!\n",
    "\n",
    "# Use the lower and upper `95%` confidence intervals to calculate the range of the possible outcomes of our $60,000\n",
    "# YOUR CODE HERE!\n",
    "\n",
    "# Print results\n",
    "print(f\"There is a 95% chance that an initial investment of ${initial_investment} in the portfolio\"\n",
    "      f\" over the next 5 years will end within in the range of\"\n",
    "      f\" ${ci_lower_five} and ${ci_upper_five}\")"
   ]
  },
  {
   "cell_type": "markdown",
   "metadata": {},
   "source": [
    "### Ten Years Retirement Option"
   ]
  },
  {
   "cell_type": "code",
   "execution_count": null,
   "metadata": {},
   "outputs": [],
   "source": [
    "# Configuring a Monte Carlo simulation to forecast 10 years cumulative returns\n",
    "# YOUR CODE HERE!"
   ]
  },
  {
   "cell_type": "code",
   "execution_count": null,
   "metadata": {},
   "outputs": [],
   "source": [
    "# Running a Monte Carlo simulation to forecast 10 years cumulative returns\n",
    "# YOUR CODE HERE!"
   ]
  },
  {
   "cell_type": "code",
   "execution_count": null,
   "metadata": {},
   "outputs": [],
   "source": [
    "# Plot simulation outcomes\n",
    "# YOUR CODE HERE!"
   ]
  },
  {
   "cell_type": "code",
   "execution_count": null,
   "metadata": {},
   "outputs": [],
   "source": [
    "# Plot probability distribution and confidence intervals\n",
    "# YOUR CODE HERE!"
   ]
  },
  {
   "cell_type": "code",
   "execution_count": null,
   "metadata": {},
   "outputs": [],
   "source": [
    "# Fetch summary statistics from the Monte Carlo simulation results\n",
    "# YOUR CODE HERE!\n",
    "\n",
    "# Print summary statistics\n",
    "# YOUR CODE HERE!"
   ]
  },
  {
   "cell_type": "code",
   "execution_count": null,
   "metadata": {},
   "outputs": [],
   "source": [
    "# Set initial investment\n",
    "# YOUR CODE HERE!\n",
    "\n",
    "# Use the lower and upper `95%` confidence intervals to calculate the range of the possible outcomes of our $60,000\n",
    "# YOUR CODE HERE!\n",
    "\n",
    "# Print results\n",
    "print(f\"There is a 95% chance that an initial investment of ${initial_investment} in the portfolio\"\n",
    "      f\" over the next 10 years will end within in the range of\"\n",
    "      f\" ${ci_lower_ten} and ${ci_upper_ten}\")"
   ]
  }
 ],
 "metadata": {
  "kernelspec": {
   "display_name": "Python [conda env:alpacaenv]",
   "language": "python",
   "name": "conda-env-alpacaenv-py"
  },
  "language_info": {
   "codemirror_mode": {
    "name": "ipython",
    "version": 3
   },
   "file_extension": ".py",
   "mimetype": "text/x-python",
   "name": "python",
   "nbconvert_exporter": "python",
   "pygments_lexer": "ipython3",
   "version": "3.7.10"
  }
 },
 "nbformat": 4,
 "nbformat_minor": 4
}
